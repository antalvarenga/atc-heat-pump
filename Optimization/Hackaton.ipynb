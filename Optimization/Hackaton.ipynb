{
 "cells": [
  {
   "cell_type": "code",
   "execution_count": 74,
   "metadata": {},
   "outputs": [],
   "source": [
    "from scipy.optimize import linprog\n",
    "import numpy as np\n",
    "import math\n"
   ]
  },
  {
   "cell_type": "markdown",
   "metadata": {},
   "source": [
    "# Hackaton"
   ]
  },
  {
   "cell_type": "markdown",
   "metadata": {},
   "source": [
    "C -> Electricity Cost\n",
    "\n",
    "72 weights ( represent the cost of each hour per mode)\n",
    "- w00, w01, w02, w03, w04, w05, w06, w07, ...\n",
    "\n",
    "modes (hours_mode_off, hours_mode_eco, hours_mode_confort)\n",
    "- h_00_off, h_00_eco, h_00_conf, h_01_off, h_01_eco, h_01_conf, ...\n",
    "\n",
    "this modes are binary variables (0 or 1)\n",
    "\n",
    "\n",
    "Expression\n",
    "- C = w00*h_00_off + w01*h_00_eco + w02*h_00_conf + w03*h_01_off + w04*h_01_eco + w05*h_01_conf + w06*h_02_off + w07*h_02_eco + w08*h_02_conf + ...\n",
    "\n",
    "\n",
    "Contraints\n",
    "\n",
    "Binary Variables and Confort score at least 124\n",
    "- h_00_off + h_00_eco + h_00_conf = 1\n",
    "- h_01_off + h_01_eco + h_01_conf = 1\n",
    "...\n",
    " - 124 <= (h_00_eco + h_01_eco + h_02_eco + ... + h_23_eco)*4 +(h_00_conf + h_01_conf + ... + h_23_conf)*8"
   ]
  },
  {
   "cell_type": "code",
   "execution_count": 88,
   "metadata": {},
   "outputs": [],
   "source": [
    "#weights represent the cost of each hour per mode\n",
    "#need to be calculated through the api data\n",
    "weights_temp = [0.1, 0.3, 0.6]*12 + [0.2, 0.5, 1.2]*12 "
   ]
  },
  {
   "cell_type": "code",
   "execution_count": 89,
   "metadata": {},
   "outputs": [],
   "source": [
    "obj = weights_temp\n",
    "\n",
    "\n",
    "lhs_eq = [[1, 1, 1]+[0]*69, [0]*3+[1]*3+[0]*66, [0]*6+[1]*3+[0]*63, [0]*9+[1]*3+[0]*60, [0]*12+[1]*3+[0]*57, [0]*15+[1]*3+[0]*54, [0]*18+[1]*3+[0]*51, [0]*21+[1]*3+[0]*48, [0]*24+[1]*3+[0]*45, [0]*27+[1]*3+[0]*42, [0]*30+[1]*3+[0]*39, [0]*33+[1]*3+[0]*36, [0]*36+[1]*3+[0]*33, [0]*39+[1]*3+[0]*30, [0]*42+[1]*3+[0]*27, [0]*45+[1]*3+[0]*24, [0]*48+[1]*3+[0]*21, [0]*51+[1]*3+[0]*18, [0]*54+[1]*3+[0]*15, [0]*57+[1]*3+[0]*12, [0]*60+[1]*3+[0]*9, [0]*63+[1]*3+[0]*6, [0]*66+[1]*3+[0]*3, [0]*69+[1]*3]\n",
    "rhs_eq = [1]*24\n",
    "\n",
    "lhs_ineq = [[0, -4, -8, 0, -4, -8,0, -4, -8,0, -4, -8,0, -4, -8,0, -4, -8,0, -4, -8,0, -4, -8,0, -4, -8,0, -4, -8,0, -4, -8,0, -4, -8,0, -4, -8,0, -4, -8,0, -4, -8,0, -4, -8,0, -4, -8,0, -4, -8,0, -4, -8,0, -4, -8,0, -4, -8,0, -4, -8,0, -4, -8,0, -4, -8]]\n",
    "rhs_ineq = [-124]\n"
   ]
  },
  {
   "cell_type": "code",
   "execution_count": 90,
   "metadata": {},
   "outputs": [],
   "source": [
    "bnd = [(0,1) for i in range(72)]\n",
    "integrality = [1 for i in range(72)]"
   ]
  },
  {
   "cell_type": "code",
   "execution_count": 91,
   "metadata": {},
   "outputs": [],
   "source": [
    "def OptimizeCost(Weights, contraints, bounds, integrality):\n",
    "    \"\"\"inputs:\n",
    "    Weights: list of weights for each hour\n",
    "    contraints: list of contraints\n",
    "    bounds: list of bounds\n",
    "    integrality: 1 : Integer variable; decision variable must be an integer within bounds.\"\"\"\n",
    "\n",
    "    opt = linprog(c=Weights, A_ub=contraints['lhs_ineq'], b_ub=contraints['rhs_ineq'],\n",
    "              A_eq=contraints['lhs_eq'], b_eq=contraints['rhs_eq'], bounds=bounds, integrality=integrality,\n",
    "              method=\"highs\")\n",
    "\n",
    "    #find if its eco, off or conf and conver to string \n",
    "    policy = np.array(opt['x']).reshape(24,3).argmax(axis=1)\n",
    "    #convert array number to off, eco or confort\n",
    "    policy = np.vectorize(lambda x: 'off' if x == 0 else 'eco' if x == 1 else 'conf')(policy)\n",
    "    \n",
    "    cost = opt['fun']\n",
    "    score = np.array(124)+opt['ineqlin']['residual'][0]\n",
    "    return policy, cost, score\n"
   ]
  },
  {
   "cell_type": "code",
   "execution_count": 92,
   "metadata": {},
   "outputs": [],
   "source": [
    "results = OptimizeCost(weights_temp, {'lhs_eq': lhs_eq, 'rhs_eq': rhs_eq, 'lhs_ineq': lhs_ineq, 'rhs_ineq': rhs_ineq}, bnd, integrality)"
   ]
  },
  {
   "cell_type": "code",
   "execution_count": 93,
   "metadata": {},
   "outputs": [
    {
     "name": "stdout",
     "output_type": "stream",
     "text": [
      "Policy:  ['conf' 'conf' 'eco' 'conf' 'conf' 'conf' 'conf' 'eco' 'conf' 'conf'\n",
      " 'conf' 'conf' 'eco' 'eco' 'eco' 'eco' 'eco' 'off' 'eco' 'eco' 'eco' 'eco'\n",
      " 'off' 'off']\n",
      "Electricity Cost:  11.7\n",
      "Confort Score:  124.0\n"
     ]
    }
   ],
   "source": [
    "print(\"Policy: \", results[0])\n",
    "print(\"Electricity Cost: \", results[1])\n",
    "print(\"Confort Score: \", results[2])"
   ]
  },
  {
   "cell_type": "code",
   "execution_count": 96,
   "metadata": {},
   "outputs": [],
   "source": [
    "temperature_array = [10]*6 + [20]*12 + [15]*6"
   ]
  },
  {
   "cell_type": "code",
   "execution_count": 94,
   "metadata": {},
   "outputs": [],
   "source": [
    "def calculateWeights(temperature_array, energy_cost_array):\n",
    "    #Temperature array is the temperature for each hour of the day\n",
    "    #Energy cost array is the cost of energy for each hour of the day\n",
    "\n",
    "    #calculate the weights for each hour\n",
    "    weights = []\n",
    "    modes = ['off', 'eco', 'conf']\n",
    "    for i in range(len(temperature_array)):\n",
    "        for mode in modes:\n",
    "            external_temp = temperature_array[i]\n",
    "            if mode == 'off':\n",
    "                #1KW/hour regardless of temperature\n",
    "                weights.append(energy_cost_array[i]*1)\n",
    "            elif mode == 'eco':\n",
    "                if external_temp < 10:\n",
    "                    #1.6KW/hour\n",
    "                    weights.append(energy_cost_array[i]*1.6)\n",
    "                elif external_temp >= 10 and external_temp <= 20:\n",
    "                    #0.8KW/hour\n",
    "                    weights.append(energy_cost_array[i]*0.8)\n",
    "                elif external_temp > 20:\n",
    "                    #0.4KW/hour\n",
    "                    weights.append(energy_cost_array[i]*0.4)\n",
    "            elif mode == 'conf':\n",
    "\n",
    "                if external_temp < 0:\n",
    "                    #2.4KW/hour+9KW/hour\n",
    "                    weights.append(energy_cost_array[i]*(2.4+9))\n",
    "                elif external_temp < 10:\n",
    "                    #2.4KW/hour\n",
    "                    weights.append(energy_cost_array[i]*2.4)\n",
    "                elif external_temp >= 10 and external_temp <= 20:\n",
    "                    #1.6KW/hour\n",
    "                    weights.append(energy_cost_array[i]*1.6)\n",
    "                elif external_temp > 20:\n",
    "                    #0.8KW/hour\n",
    "                    weights.append(energy_cost_array[i]*0.8)\n",
    "    return weights\n",
    "    \n",
    "        \n"
   ]
  },
  {
   "cell_type": "code",
   "execution_count": null,
   "metadata": {},
   "outputs": [],
   "source": []
  }
 ],
 "metadata": {
  "kernelspec": {
   "display_name": "Python 3.9.13 ('hackaton')",
   "language": "python",
   "name": "python3"
  },
  "language_info": {
   "codemirror_mode": {
    "name": "ipython",
    "version": 3
   },
   "file_extension": ".py",
   "mimetype": "text/x-python",
   "name": "python",
   "nbconvert_exporter": "python",
   "pygments_lexer": "ipython3",
   "version": "3.9.13"
  },
  "orig_nbformat": 4,
  "vscode": {
   "interpreter": {
    "hash": "80519f9dbd3a5e2e222e6ef23e7f9d3ad3454ae65239d25c89e0500d9e3f24f4"
   }
  }
 },
 "nbformat": 4,
 "nbformat_minor": 2
}
