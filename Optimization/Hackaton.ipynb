{
 "cells": [
  {
   "cell_type": "code",
   "execution_count": 1,
   "metadata": {},
   "outputs": [],
   "source": [
    "from scipy.optimize import linprog\n",
    "import numpy as np\n",
    "import math\n",
    "from electricity_prices import read_prices\n",
    "from datetime import datetime, timedelta\n",
    "\n",
    "import json\n",
    "import pandas as pd\n",
    "\n",
    "from hackaton import get_temperature_array, get_energy_array, printResults, saveJsonFIle, get_data_from_multiple_days, get_data_from_month, get_data_from_week, create_json_object"
   ]
  },
  {
   "cell_type": "markdown",
   "metadata": {},
   "source": [
    "# GLOBAL VARS"
   ]
  },
  {
   "cell_type": "code",
   "execution_count": 2,
   "metadata": {},
   "outputs": [],
   "source": [
    "CONFORT_PROVIDED_MODE_ECO=4\n",
    "CONFORT_PROVIDED_MODE_CONFORT=8\n",
    "\n",
    "\n",
    "#Table values (should be global vars)\n",
    "MODE_OFF_CONSUMPTION = 1\n",
    "\n",
    "MODE_ECO_CONSUMPTION_TEMPERATURE_LOWER_10 = 1.6\n",
    "MODE_ECO_CONSUMPTION_TEMPERATURE_BIGGER_10_LOWER_20 = 0.8\n",
    "MODE_ECO_CONSUMPTION_TEMPERATURE_BIGGER_20 = 0.4\n",
    "\n",
    "MODE_CONFORT_CONSUMPTION_TEMPERATURE_LOWER_0 = 2.4+9\n",
    "MODE_CONFORT_CONSUMPTION_TEMPERATURE_BIGGER_0_LOWER_10 = 2.4\n",
    "MODE_CONFORT_CONSUMPTION_TEMPERATURE_BIGGER_10_LOWER_20 = 1.6\n",
    "MODE_CONFORT_CONSUMPTION_TEMPERATURE_BIGGER_20 = 0.8\n",
    "\n",
    "\n",
    "\n"
   ]
  },
  {
   "cell_type": "markdown",
   "metadata": {},
   "source": [
    "# Hackaton"
   ]
  },
  {
   "cell_type": "markdown",
   "metadata": {},
   "source": [
    "C -> Electricity Cost\n",
    "\n",
    "72 weights ( represent the cost of each hour per mode)\n",
    "- w00, w01, w02, w03, w04, w05, w06, w07, ...\n",
    "\n",
    "modes (hours_mode_off, hours_mode_eco, hours_mode_confort)\n",
    "- h_00_off, h_00_eco, h_00_conf, h_01_off, h_01_eco, h_01_conf, ...\n",
    "\n",
    "this modes are binary variables (0 or 1)\n",
    "\n",
    "\n",
    "Expression\n",
    "- C = w00*h_00_off + w01*h_00_eco + w02*h_00_conf + w03*h_01_off + w04*h_01_eco + w05*h_01_conf + w06*h_02_off + w07*h_02_eco + w08*h_02_conf + ...\n",
    "\n",
    "\n",
    "Contraints\n",
    "\n",
    "Binary Variables and Confort score at least 124\n",
    "- h_00_off + h_00_eco + h_00_conf = 1\n",
    "- h_01_off + h_01_eco + h_01_conf = 1\n",
    "...\n",
    " - 124 <= (h_00_eco + h_01_eco + h_02_eco + ... + h_23_eco)*4 +(h_00_conf + h_01_conf + ... + h_23_conf)*8"
   ]
  },
  {
   "cell_type": "code",
   "execution_count": 3,
   "metadata": {},
   "outputs": [],
   "source": [
    "def OptimizeCost(Weights, costs, consumptionForEachWeight, temperature_array, minumum_confort_score=124):\n",
    "    \"\"\"inputs:\n",
    "    Weights: list of weights for each hour\n",
    "    contraints: list of contraints\n",
    "    bounds: list of bounds\n",
    "    integrality: 1 : Integer variable; decision variable must be an integer within bounds.\"\"\"\n",
    "    #Optimize cost\n",
    "    #weights\n",
    "\n",
    "    #contraints\n",
    "    lhs_eq = [[1, 1, 1]+[0]*69, [0]*3+[1]*3+[0]*66, [0]*6+[1]*3+[0]*63, [0]*9+[1]*3+[0]*60, [0]*12+[1]*3+[0]*57, [0]*15+[1]*3+[0]*54, [0]*18+[1]*3+[0]*51, [0]*21+[1]*3+[0]*48, [0]*24+[1]*3+[0]*45, [0]*27+[1]*3+[0]*42, [0]*30+[1]*3+[0]*39, [0]*33+[1]*3+[0]*36, [0]*36+[1]*3+[0]*33, [0]*39+[1]*3+[0]*30, [0]*42+[1]*3+[0]*27, [0]*45+[1]*3+[0]*24, [0]*48+[1]*3+[0]*21, [0]*51+[1]*3+[0]*18, [0]*54+[1]*3+[0]*15, [0]*57+[1]*3+[0]*12, [0]*60+[1]*3+[0]*9, [0]*63+[1]*3+[0]*6, [0]*66+[1]*3+[0]*3, [0]*69+[1]*3]\n",
    "    rhs_eq = [1]*24\n",
    "\n",
    "    #lhs_ineq = [[0, -4, -8, 0, -4, -8,0, -4, -8,0, -4, -8,0, -4, -8,0, -4, -8,0, -4, -8,0, -4, -8,0, -4, -8,0, -4, -8,0, -4, -8,0, -4, -8,0, -4, -8,0, -4, -8,0, -4, -8,0, -4, -8,0, -4, -8,0, -4, -8,0, -4, -8,0, -4, -8,0, -4, -8,0, -4, -8,0, -4, -8,0, -4, -8]]\n",
    "    lhs_ineq = [[0, -CONFORT_PROVIDED_MODE_ECO, -CONFORT_PROVIDED_MODE_CONFORT, 0, -CONFORT_PROVIDED_MODE_ECO, -CONFORT_PROVIDED_MODE_CONFORT,0, -CONFORT_PROVIDED_MODE_ECO, -CONFORT_PROVIDED_MODE_CONFORT,0, -CONFORT_PROVIDED_MODE_ECO, -CONFORT_PROVIDED_MODE_CONFORT,0, -CONFORT_PROVIDED_MODE_ECO, -CONFORT_PROVIDED_MODE_CONFORT,0, -CONFORT_PROVIDED_MODE_ECO, -CONFORT_PROVIDED_MODE_CONFORT,0, -CONFORT_PROVIDED_MODE_ECO, -CONFORT_PROVIDED_MODE_CONFORT,0, -CONFORT_PROVIDED_MODE_ECO, -CONFORT_PROVIDED_MODE_CONFORT,0, -CONFORT_PROVIDED_MODE_ECO, -CONFORT_PROVIDED_MODE_CONFORT,0, -CONFORT_PROVIDED_MODE_ECO, -CONFORT_PROVIDED_MODE_CONFORT,0, -CONFORT_PROVIDED_MODE_ECO, -CONFORT_PROVIDED_MODE_CONFORT,0, -CONFORT_PROVIDED_MODE_ECO, -CONFORT_PROVIDED_MODE_CONFORT,0, -CONFORT_PROVIDED_MODE_ECO, -CONFORT_PROVIDED_MODE_CONFORT,0, -CONFORT_PROVIDED_MODE_ECO, -CONFORT_PROVIDED_MODE_CONFORT,0, -CONFORT_PROVIDED_MODE_ECO, -CONFORT_PROVIDED_MODE_CONFORT,0, -CONFORT_PROVIDED_MODE_ECO, -CONFORT_PROVIDED_MODE_CONFORT,0, -CONFORT_PROVIDED_MODE_ECO, -CONFORT_PROVIDED_MODE_CONFORT,0, -CONFORT_PROVIDED_MODE_ECO, -CONFORT_PROVIDED_MODE_CONFORT,0, -CONFORT_PROVIDED_MODE_ECO, -CONFORT_PROVIDED_MODE_CONFORT,0, -CONFORT_PROVIDED_MODE_ECO, -CONFORT_PROVIDED_MODE_CONFORT,0, -CONFORT_PROVIDED_MODE_ECO, -CONFORT_PROVIDED_MODE_CONFORT,0, -CONFORT_PROVIDED_MODE_ECO, -CONFORT_PROVIDED_MODE_CONFORT,0, -CONFORT_PROVIDED_MODE_ECO, -CONFORT_PROVIDED_MODE_CONFORT,0, -CONFORT_PROVIDED_MODE_ECO, -CONFORT_PROVIDED_MODE_CONFORT]]\n",
    "    \n",
    "    rhs_ineq = [-minumum_confort_score]\n",
    "\n",
    "    bounds = [(0,1) for i in range(72)]\n",
    "    integrality = [1 for i in range(72)]\n",
    "\n",
    "    opt = linprog(c=Weights, A_ub=lhs_ineq, b_ub=rhs_ineq,\n",
    "              A_eq=lhs_eq, b_eq=rhs_eq, bounds=bounds, integrality=integrality,\n",
    "              method=\"highs\")\n",
    "\n",
    "    cost = np.dot(opt['x'], costs)\n",
    "\n",
    "    #find if its eco, off or conf and conver to string \n",
    "    policy = np.array(opt['x']).reshape(24,3).argmax(axis=1)\n",
    "    #convert array number to off, eco or confort\n",
    "    policy = np.vectorize(lambda x: 'off' if x == 0 else 'eco' if x == 1 else 'conf')(policy)\n",
    "    \n",
    "    #cost = opt['fun']\n",
    "    score = np.array(minumum_confort_score)+opt['ineqlin']['residual'][0]\n",
    "    \n",
    "    #comfort score accumulated across the day\n",
    "    accumulated_comfort_score = [CONFORT_PROVIDED_MODE_CONFORT if policy[i] == 'conf' else CONFORT_PROVIDED_MODE_ECO if policy[i] == 'eco' else 0 for i in range(24)]\n",
    "    for i in range(1,24):\n",
    "        accumulated_comfort_score[i] = accumulated_comfort_score[i-1]+accumulated_comfort_score[i]\n",
    "    \n",
    "    #cost accumulated across the day\n",
    "    #need to check weights and see which are active\n",
    "\n",
    "    #Consumo energético atual e acumulado -> weights\n",
    "    accumulated_cost = []\n",
    "    accumulated_comsumption = []\n",
    "    weights_count = 0\n",
    "    for mode in policy:\n",
    "        if mode == 'conf':\n",
    "            accumulated_cost.append(Weights[2+weights_count])\n",
    "            accumulated_comsumption.append(consumptionForEachWeight[2+weights_count])\n",
    "        elif mode == 'eco':\n",
    "            accumulated_cost.append(Weights[1+weights_count])\n",
    "            accumulated_comsumption.append(consumptionForEachWeight[1+weights_count])\n",
    "        else:\n",
    "            accumulated_cost.append(Weights[weights_count])\n",
    "            accumulated_comsumption.append(consumptionForEachWeight[weights_count])\n",
    "        weights_count += 3\n",
    "    atual_cost= accumulated_cost.copy()\n",
    "    atual_comsumption= accumulated_comsumption.copy()\n",
    "    for i in range(1,24):\n",
    "        accumulated_cost[i] = accumulated_cost[i-1]+accumulated_cost[i]\n",
    "        accumulated_comsumption[i] = accumulated_comsumption[i-1]+accumulated_comsumption[i]\n",
    "\n",
    "    #Comsumption accumulated across the day\n",
    "    # receives the consumption for each weight\n",
    "       \n",
    "\n",
    "    return policy, cost, accumulated_comfort_score[-1], accumulated_comfort_score, atual_cost, accumulated_cost, atual_comsumption, accumulated_comsumption, temperature_array\n"
   ]
  },
  {
   "cell_type": "code",
   "execution_count": 4,
   "metadata": {},
   "outputs": [],
   "source": [
    "#Temperatures set by eco and confort modes\n",
    "MODE_ECO_TEMPERATURE = 19\n",
    "MODE_CONFORT_TEMPERATURE = 25\n",
    "HEAT_DISSIPATION_RATE = 0.1\n",
    "\n",
    "def expectedTemperature(internal_temperature, external_temperature, mode):\n",
    "\n",
    "    if mode == 'conf':\n",
    "        #if the internal temperature is higher than the confort temperature, the heat is dissipated\n",
    "        if internal_temperature > MODE_CONFORT_TEMPERATURE:\n",
    "            internal_temperature = MODE_CONFORT_TEMPERATURE\n",
    "        #if the internal temperature is lower than the confort temperature, the heat is absorbed\n",
    "        elif internal_temperature < MODE_CONFORT_TEMPERATURE:\n",
    "            internal_temperature += (external_temperature - internal_temperature) * HEAT_DISSIPATION_RATE+((MODE_CONFORT_TEMPERATURE - internal_temperature)*2/MODE_CONFORT_TEMPERATURE)\n",
    "    elif mode == 'eco':\n",
    "        #if the internal temperature is higher than the eco temperature, the heat is dissipated\n",
    "        if internal_temperature > MODE_ECO_TEMPERATURE:\n",
    "            internal_temperature = MODE_ECO_TEMPERATURE\n",
    "        #if the internal temperature is lower than the eco temperature, the heat is absorbed\n",
    "        elif internal_temperature < MODE_ECO_TEMPERATURE:\n",
    "            internal_temperature += (external_temperature - internal_temperature) * HEAT_DISSIPATION_RATE+((MODE_ECO_TEMPERATURE - internal_temperature)*2/MODE_ECO_TEMPERATURE)\n",
    "    else:\n",
    "        return internal_temperature\n",
    "\n",
    "def calculateWeights(temperature_array, energy_cost_array, confort_score_coef=0, min_temperature=20):\n",
    "    #confort_score_coef is bassicaly the amount of money you are willing to pay for 1 point extra confort\n",
    "    #Temperature array is the temperature for each hour of the day\n",
    "    #Energy cost array is the cost of energy for each hour of the day\n",
    "\n",
    "    #need to define how the temperatures change with modes\n",
    "    \n",
    "\n",
    "    #calculate the weights for each hour\n",
    "    weights = []\n",
    "    comsumption = []\n",
    "    cost = []\n",
    "    modes = ['off', 'eco', 'conf']\n",
    "    for i in range(len(temperature_array)):\n",
    "        for mode in modes:\n",
    "            external_temp = temperature_array[i]\n",
    "            if mode == 'off':\n",
    "                #1KW/hour regardless of temperature\n",
    "                weights.append(energy_cost_array[i]*MODE_OFF_CONSUMPTION-(confort_score_coef*0))\n",
    "                comsumption.append(MODE_OFF_CONSUMPTION)\n",
    "                cost.append(energy_cost_array[i]*MODE_OFF_CONSUMPTION)\n",
    "            elif mode == 'eco':\n",
    "                if external_temp < 10:\n",
    "                    #1.6KW/hour\n",
    "                    weights.append(energy_cost_array[i]*MODE_ECO_CONSUMPTION_TEMPERATURE_LOWER_10-(confort_score_coef*4))\n",
    "                    comsumption.append(MODE_ECO_CONSUMPTION_TEMPERATURE_LOWER_10)\n",
    "                    cost.append(energy_cost_array[i]*MODE_ECO_CONSUMPTION_TEMPERATURE_LOWER_10)\n",
    "                elif external_temp >= 10 and external_temp <= 20:\n",
    "                    #0.8KW/hour\n",
    "                    weights.append(energy_cost_array[i]*MODE_ECO_CONSUMPTION_TEMPERATURE_BIGGER_10_LOWER_20-(confort_score_coef*4))\n",
    "                    comsumption.append(MODE_ECO_CONSUMPTION_TEMPERATURE_BIGGER_10_LOWER_20)\n",
    "                    cost.append(energy_cost_array[i]*MODE_ECO_CONSUMPTION_TEMPERATURE_BIGGER_10_LOWER_20)\n",
    "                elif external_temp > 20:\n",
    "                    #0.4KW/hour\n",
    "                    weights.append(energy_cost_array[i]*MODE_ECO_CONSUMPTION_TEMPERATURE_BIGGER_20-(confort_score_coef*4))\n",
    "                    comsumption.append(MODE_ECO_CONSUMPTION_TEMPERATURE_BIGGER_20)\n",
    "                    cost.append(energy_cost_array[i]*MODE_ECO_CONSUMPTION_TEMPERATURE_BIGGER_20)\n",
    "            elif mode == 'conf':\n",
    "                if external_temp < 0:\n",
    "                    #2.4KW/hour+9KW/hour\n",
    "                    weights.append(energy_cost_array[i]*(MODE_CONFORT_CONSUMPTION_TEMPERATURE_LOWER_0)-(confort_score_coef*8))\n",
    "                    comsumption.append(MODE_CONFORT_CONSUMPTION_TEMPERATURE_LOWER_0)\n",
    "                    cost.append(energy_cost_array[i]*(MODE_CONFORT_CONSUMPTION_TEMPERATURE_LOWER_0))\n",
    "                elif external_temp < 10:\n",
    "                    #2.4KW/hour\n",
    "                    weights.append(energy_cost_array[i]*MODE_CONFORT_CONSUMPTION_TEMPERATURE_BIGGER_0_LOWER_10-(confort_score_coef*8))\n",
    "                    comsumption.append(MODE_CONFORT_CONSUMPTION_TEMPERATURE_BIGGER_0_LOWER_10)\n",
    "                    cost.append(energy_cost_array[i]*MODE_CONFORT_CONSUMPTION_TEMPERATURE_BIGGER_0_LOWER_10)\n",
    "                elif external_temp >= 10 and external_temp <= 20:\n",
    "                    #1.6KW/hour\n",
    "                    weights.append(energy_cost_array[i]*MODE_CONFORT_CONSUMPTION_TEMPERATURE_BIGGER_10_LOWER_20-(confort_score_coef*8))\n",
    "                    comsumption.append(MODE_CONFORT_CONSUMPTION_TEMPERATURE_BIGGER_10_LOWER_20)\n",
    "                    cost.append(energy_cost_array[i]*MODE_CONFORT_CONSUMPTION_TEMPERATURE_BIGGER_10_LOWER_20)\n",
    "                elif external_temp > 20:\n",
    "                    #0.8KW/hour\n",
    "                    weights.append(energy_cost_array[i]*MODE_CONFORT_CONSUMPTION_TEMPERATURE_BIGGER_20-(confort_score_coef*8))\n",
    "                    comsumption.append(MODE_CONFORT_CONSUMPTION_TEMPERATURE_BIGGER_20)\n",
    "                    cost.append(energy_cost_array[i]*MODE_CONFORT_CONSUMPTION_TEMPERATURE_BIGGER_20)\n",
    "    return weights, comsumption, cost\n",
    "    \n",
    "        \n"
   ]
  },
  {
   "cell_type": "code",
   "execution_count": 5,
   "metadata": {},
   "outputs": [
    {
     "name": "stdout",
     "output_type": "stream",
     "text": [
      "-0.4921052631578947\n",
      "0.8063157894736842\n",
      "14.921052631578947\n"
     ]
    }
   ],
   "source": [
    "internal_temperature=15\n",
    "external_temperature=10\n",
    "internal_temperature += (external_temperature - internal_temperature) * HEAT_DISSIPATION_RATE+((MODE_ECO_TEMPERATURE - internal_temperature)*2/MODE_ECO_TEMPERATURE)\n",
    "    \n",
    "print((external_temperature - internal_temperature) * HEAT_DISSIPATION_RATE )\n",
    "print(((MODE_CONFORT_TEMPERATURE - internal_temperature)*2/MODE_CONFORT_TEMPERATURE))\n",
    "print(internal_temperature)"
   ]
  },
  {
   "cell_type": "code",
   "execution_count": 6,
   "metadata": {},
   "outputs": [
    {
     "name": "stdout",
     "output_type": "stream",
     "text": [
      "Policy:  ['conf' 'conf' 'conf' 'conf' 'conf' 'conf' 'eco' 'eco' 'eco' 'eco' 'eco'\n",
      " 'eco' 'eco' 'eco' 'eco' 'eco' 'eco' 'eco' 'eco' 'eco' 'eco' 'eco' 'eco'\n",
      " 'conf']\n",
      "Electricity Cost (euros):  11.894456\n",
      "Confort Score:  124\n",
      "Accumulated Comfort Score:  [8, 16, 24, 32, 40, 48, 52, 56, 60, 64, 68, 72, 76, 80, 84, 88, 92, 96, 100, 104, 108, 112, 116, 124]\n",
      "Atual Cost:  [0.61284, 0.6, 0.582624, 0.541608, 0.528288, 0.577104, 0.4355359999999999, 0.46860799999999997, 0.479008, 0.47819200000000006, 0.471008, 0.4534560000000001, 0.43200000000000005, 0.43200000000000005, 0.433632, 0.4355359999999999, 0.45126400000000005, 0.48, 0.49488000000000004, 0.4841600000000001, 0.48096000000000005, 0.47968000000000005, 0.450144, 0.6119279999999999]\n",
      "Accumulated Cost:  [0.61284, 1.21284, 1.795464, 2.337072, 2.86536, 3.4424639999999997, 3.8779999999999997, 4.346608, 4.825616, 5.303808, 5.774816, 6.2282720000000005, 6.660272000000001, 7.092272000000001, 7.5259040000000015, 7.961440000000001, 8.412704000000002, 8.892704000000002, 9.387584000000002, 9.871744000000001, 10.352704000000001, 10.832384000000001, 11.282528000000001, 11.894456000000002]\n",
      "Atual Consumption:  [2.4, 2.4, 2.4, 2.4, 2.4, 2.4, 1.6, 1.6, 1.6, 1.6, 1.6, 1.6, 1.6, 1.6, 1.6, 1.6, 1.6, 1.6, 1.6, 1.6, 1.6, 1.6, 1.6, 2.4]\n",
      "Accumulated Consumption:  [2.4, 4.8, 7.199999999999999, 9.6, 12.0, 14.4, 16.0, 17.6, 19.200000000000003, 20.800000000000004, 22.400000000000006, 24.000000000000007, 25.60000000000001, 27.20000000000001, 28.80000000000001, 30.400000000000013, 32.000000000000014, 33.600000000000016, 35.20000000000002, 36.80000000000002, 38.40000000000002, 40.00000000000002, 41.60000000000002, 44.00000000000002]\n",
      "Temperature Array:  [1.96 1.94 2.22 2.11 2.37 3.16 3.67 3.87 4.25 4.32 5.19 5.77 6.21 7.26\n",
      " 7.82 8.83 8.63 7.1  6.02 5.6  5.27 4.97 5.03 5.05]\n"
     ]
    },
    {
     "name": "stderr",
     "output_type": "stream",
     "text": [
      "/Users/rmelo/Documents/GitHub/atc-heat-pump/Optimization/electricity_prices.py:23: ParserWarning: Falling back to the 'python' engine because the 'c' engine does not support skipfooter; you can avoid this warning by specifying engine='python'.\n",
      "  data = read_csv(folder_name + fname, sep=';', skipfooter=1).to_numpy()\n"
     ]
    }
   ],
   "source": [
    "date = '2021-12-01'\n",
    "temperature_array = get_temperature_array(date)\n",
    "energy_array = get_energy_array(date)\n",
    "weights, consumption, cost = calculateWeights(temperature_array, energy_array)\n",
    "results = OptimizeCost(weights, cost, consumption, temperature_array, minumum_confort_score=124)\n",
    "print(\"Policy: \", results[0])\n",
    "print(\"Electricity Cost (euros): \", results[1])\n",
    "print(\"Confort Score: \", results[2])\n",
    "print(\"Accumulated Comfort Score: \", results[3])\n",
    "print(\"Atual Cost: \", results[4])\n",
    "print(\"Accumulated Cost: \", results[5])\n",
    "print(\"Atual Consumption: \", results[6])\n",
    "print(\"Accumulated Consumption: \", results[7])\n",
    "print(\"Temperature Array: \", results[8])"
   ]
  },
  {
   "cell_type": "code",
   "execution_count": 7,
   "metadata": {},
   "outputs": [
    {
     "name": "stdout",
     "output_type": "stream",
     "text": [
      "Acumulated Cost:  [0.4625600000000001, 0.87704, 1.2710400000000002, 1.830168, 2.310888, 2.790888, 3.181288, 3.619256, 4.067416, 4.483416, 4.880216, 5.270456, 5.656216000000001, 6.227176000000001, 6.786136000000001, 7.357096000000001, 7.7428560000000015, 8.140056000000001, 8.568696000000001, 9.016856, 9.465768, 9.872168, 10.257928, 10.720672]\n"
     ]
    },
    {
     "name": "stderr",
     "output_type": "stream",
     "text": [
      "/Users/rmelo/Documents/GitHub/atc-heat-pump/Optimization/electricity_prices.py:23: ParserWarning: Falling back to the 'python' engine because the 'c' engine does not support skipfooter; you can avoid this warning by specifying engine='python'.\n",
      "  data = read_csv(folder_name + fname, sep=';', skipfooter=1).to_numpy()\n"
     ]
    }
   ],
   "source": [
    "date = '2021-12-02'\n",
    "temperature_array = get_temperature_array(date)\n",
    "energy_array = get_energy_array(date)\n",
    "weights, consumption, cost = calculateWeights(temperature_array, energy_array)\n",
    "results = OptimizeCost(weights, cost, consumption, temperature_array, minumum_confort_score=124)\n",
    "\n",
    "print(\"Acumulated Cost: \", results[5])"
   ]
  },
  {
   "cell_type": "code",
   "execution_count": 8,
   "metadata": {},
   "outputs": [
    {
     "data": {
      "text/plain": [
       "([<matplotlib.axis.YTick at 0x7fb85b9298b0>,\n",
       "  <matplotlib.axis.YTick at 0x7fb85b929370>,\n",
       "  <matplotlib.axis.YTick at 0x7fb85b90d4c0>],\n",
       " [Text(0, 0, 'conf'), Text(0, 1, 'eco'), Text(0, 2, 'off')])"
      ]
     },
     "execution_count": 8,
     "metadata": {},
     "output_type": "execute_result"
    },
    {
     "data": {
      "image/png": "[encoded data removed]",
      "text/plain": [
       "<Figure size 2000x1000 with 1 Axes>"
      ]
     },
     "metadata": {},
     "output_type": "display_data"
    }
   ],
   "source": [
    "from matplotlib import pyplot as plt\n",
    "import seaborn as sns\n",
    "\n",
    "sns.set_theme(style=\"whitegrid\")\n",
    "#plot the different modes across the day and the energy cost during the day \n",
    "plt.figure(figsize=(20,10))\n",
    "\n",
    "plt.title(\"Mode Policy for 2021-12-01\")\n",
    "#plot results[0] with y axis order being like ['off', 'eco', 'conf']\n",
    "\n",
    "\n",
    "plt.plot(results[0])\n",
    "\n",
    "#change order of y axis to ['off', 'eco', 'conf']\n",
    "plt.gca().invert_yaxis()\n",
    "plt.yticks([0,1,2], ['conf', 'eco', 'off'])\n",
    "\n",
    "\n",
    "#plt.plot(np.vectorize(lambda x: 0 if x == 'off' else 1 if x == 'eco' else 2)(results[0]))"
   ]
  },
  {
   "cell_type": "code",
   "execution_count": 9,
   "metadata": {},
   "outputs": [
    {
     "data": {
      "text/plain": [
       "[<matplotlib.lines.Line2D at 0x7fb85c6b9640>]"
      ]
     },
     "execution_count": 9,
     "metadata": {},
     "output_type": "execute_result"
    },
    {
     "data": {
      "image/png": "[encoded data removed]",
      "text/plain": [
       "<Figure size 640x480 with 1 Axes>"
      ]
     },
     "metadata": {},
     "output_type": "display_data"
    }
   ],
   "source": [
    "plt.title('Energy Cost for 2021-12-01')\n",
    "plt.plot(energy_array)\n"
   ]
  },
  {
   "cell_type": "code",
   "execution_count": null,
   "metadata": {},
   "outputs": [],
   "source": [
    "start_date='2021-12-01'\n",
    "end_date='2021-12-31'\n",
    "\n",
    "#get energy cost array\n",
    "#energy_cost_array = get_energy_array(start_date)\n",
    "#print(energy_cost_array)\n",
    "\n",
    "results = get_data_from_multiple_days(start_date, end_date, confort_score_coef=0.00)\n",
    "\n",
    "\n",
    "#printResults(results)\n",
    "json_object = create_json_object(results, start_date)\n",
    "\n",
    "#print json object first entry\n",
    "print(json_object[0])\n",
    "#print(json_object[24])\n",
    "#save json\n",
    "saveJsonFIle(json_object, \"results.json\")\n"
   ]
  },
  {
   "cell_type": "markdown",
   "metadata": {},
   "source": [
    "# Simulate Policy"
   ]
  },
  {
   "cell_type": "code",
   "execution_count": 11,
   "metadata": {},
   "outputs": [],
   "source": [
    "def simulate_policy(policy, date):\n",
    "    #get the temperature array\n",
    "    temperature_array = get_temperature_array(date)\n",
    "    #get the energy array\n",
    "\n",
    "    energy_cost_array = get_energy_array(date)\n",
    "    #calculate the weights\n",
    "\n",
    "    #calculate the weights for each hour\n",
    "    weights = []\n",
    "    comsumption = []\n",
    "    cost = []\n",
    "    modes = ['off', 'eco', 'conf']\n",
    "\n",
    "    for i in range(len(temperature_array)):\n",
    "        mode = policy[i]\n",
    "        external_temp = temperature_array[i]\n",
    "        if mode == 'off':\n",
    "            #1KW/hour regardless of temperature\n",
    "            comsumption.append(MODE_OFF_CONSUMPTION)\n",
    "            cost.append(energy_cost_array[i]*MODE_OFF_CONSUMPTION)\n",
    "        elif mode == 'eco':\n",
    "            if external_temp < 10:\n",
    "                #1.6KW/hour\n",
    "                comsumption.append(MODE_ECO_CONSUMPTION_TEMPERATURE_LOWER_10)\n",
    "                cost.append(energy_cost_array[i]*MODE_ECO_CONSUMPTION_TEMPERATURE_LOWER_10)\n",
    "            elif external_temp >= 10 and external_temp <= 20:\n",
    "                #0.8KW/hour\n",
    "                comsumption.append(MODE_ECO_CONSUMPTION_TEMPERATURE_BIGGER_10_LOWER_20)\n",
    "                cost.append(energy_cost_array[i]*MODE_ECO_CONSUMPTION_TEMPERATURE_BIGGER_10_LOWER_20)\n",
    "            elif external_temp > 20:\n",
    "                #0.4KW/hour\n",
    "                comsumption.append(MODE_ECO_CONSUMPTION_TEMPERATURE_BIGGER_20)\n",
    "                cost.append(energy_cost_array[i]*MODE_ECO_CONSUMPTION_TEMPERATURE_BIGGER_20)\n",
    "        elif mode == 'conf':\n",
    "            if external_temp < 0:\n",
    "                #2.4KW/hour+9KW/hour\n",
    "                comsumption.append(MODE_CONFORT_CONSUMPTION_TEMPERATURE_LOWER_0)\n",
    "                cost.append(energy_cost_array[i]*(MODE_CONFORT_CONSUMPTION_TEMPERATURE_LOWER_0))\n",
    "            elif external_temp < 10:\n",
    "                #2.4KW/hour\n",
    "                comsumption.append(MODE_CONFORT_CONSUMPTION_TEMPERATURE_BIGGER_0_LOWER_10)\n",
    "                cost.append(energy_cost_array[i]*MODE_CONFORT_CONSUMPTION_TEMPERATURE_BIGGER_0_LOWER_10)\n",
    "            elif external_temp >= 10 and external_temp <= 20:\n",
    "                #1.6KW/hour\n",
    "                comsumption.append(MODE_CONFORT_CONSUMPTION_TEMPERATURE_BIGGER_10_LOWER_20)\n",
    "                cost.append(energy_cost_array[i]*MODE_CONFORT_CONSUMPTION_TEMPERATURE_BIGGER_10_LOWER_20)\n",
    "            elif external_temp > 20:\n",
    "                #0.8KW/hour\n",
    "                comsumption.append(MODE_CONFORT_CONSUMPTION_TEMPERATURE_BIGGER_20)\n",
    "                cost.append(energy_cost_array[i]*MODE_CONFORT_CONSUMPTION_TEMPERATURE_BIGGER_20)\n",
    "\n",
    "    \n",
    "    return consumption, cost"
   ]
  },
  {
   "cell_type": "code",
   "execution_count": 12,
   "metadata": {},
   "outputs": [],
   "source": [
    "def generateWorkPolicy(work_hours_start, amount_of_work_hours):\n",
    "    #generate a policy with work hours\n",
    "    #conf when home, eco when work\n",
    "    policy = []\n",
    "    for i in range(24):\n",
    "        if i < work_hours_start or i >= work_hours_start + amount_of_work_hours:\n",
    "            policy.append('eco')\n",
    "        else:\n",
    "            policy.append('conf')\n",
    "    return policy\n",
    "\n",
    "def generateNightPolicy(CurfewHour, SleepHours=8):\n",
    "    #generate a policy with work hours\n",
    "    #conf when home, eco when work\n",
    "    policy = []\n",
    "    MorningWakingUp = SleepHours+CurfewHour-23\n",
    "    for i in range(24):\n",
    "        if i < CurfewHour or i >= MorningWakingUp:\n",
    "            policy.append('eco')\n",
    "        else:\n",
    "            policy.append('conf')\n",
    "    return policy"
   ]
  },
  {
   "cell_type": "code",
   "execution_count": 13,
   "metadata": {},
   "outputs": [
    {
     "name": "stdout",
     "output_type": "stream",
     "text": [
      "Policy:  ['eco', 'eco', 'eco', 'eco', 'eco', 'eco', 'eco', 'eco', 'eco', 'conf', 'conf', 'conf', 'conf', 'conf', 'conf', 'conf', 'conf', 'eco', 'eco', 'eco', 'eco', 'eco', 'eco', 'eco']\n",
      "Electricity Cost (euros):  12.336535999999997\n",
      "Accumulated Consumption:  120.0\n",
      "Policy:  ['eco', 'eco', 'eco', 'eco', 'eco', 'eco', 'eco', 'eco', 'eco', 'eco', 'eco', 'eco', 'eco', 'eco', 'eco', 'eco', 'eco', 'eco', 'eco', 'eco', 'eco', 'eco', 'eco', 'eco']\n",
      "Electricity Cost (euros):  10.542992\n",
      "Accumulated Consumption:  120.0\n"
     ]
    },
    {
     "name": "stderr",
     "output_type": "stream",
     "text": [
      "/Users/rmelo/Documents/GitHub/atc-heat-pump/Optimization/electricity_prices.py:23: ParserWarning: Falling back to the 'python' engine because the 'c' engine does not support skipfooter; you can avoid this warning by specifying engine='python'.\n",
      "  data = read_csv(folder_name + fname, sep=';', skipfooter=1).to_numpy()\n",
      "/Users/rmelo/Documents/GitHub/atc-heat-pump/Optimization/electricity_prices.py:23: ParserWarning: Falling back to the 'python' engine because the 'c' engine does not support skipfooter; you can avoid this warning by specifying engine='python'.\n",
      "  data = read_csv(folder_name + fname, sep=';', skipfooter=1).to_numpy()\n"
     ]
    }
   ],
   "source": [
    "Workpolicy = generateWorkPolicy(9, 8)\n",
    "consumption, cost = simulate_policy(Workpolicy,'2021-12-01')\n",
    "print(\"Policy: \", Workpolicy)\n",
    "print(\"Electricity Cost (euros): \", sum(cost))\n",
    "print(\"Accumulated Consumption: \", sum(consumption))\n",
    "Nightpolicy = generateNightPolicy(22, SleepHours=8)\n",
    "consumption, cost = simulate_policy(Nightpolicy,'2021-12-01')\n",
    "print(\"Policy: \", Nightpolicy)\n",
    "print(\"Electricity Cost (euros): \", sum(cost))\n",
    "print(\"Accumulated Consumption: \", sum(consumption))\n"
   ]
  },
  {
   "cell_type": "code",
   "execution_count": null,
   "metadata": {},
   "outputs": [],
   "source": [
    "\n",
    "\n"
   ]
  }
 ],
 "metadata": {
  "kernelspec": {
   "display_name": "Python 3.9.13 ('hackaton')",
   "language": "python",
   "name": "python3"
  },
  "language_info": {
   "codemirror_mode": {
    "name": "ipython",
    "version": 3
   },
   "file_extension": ".py",
   "mimetype": "text/x-python",
   "name": "python",
   "nbconvert_exporter": "python",
   "pygments_lexer": "ipython3",
   "version": "3.9.13"
  },
  "orig_nbformat": 4,
  "vscode": {
   "interpreter": {
    "hash": "80519f9dbd3a5e2e222e6ef23e7f9d3ad3454ae65239d25c89e0500d9e3f24f4"
   }
  }
 },
 "nbformat": 4,
 "nbformat_minor": 2
}
